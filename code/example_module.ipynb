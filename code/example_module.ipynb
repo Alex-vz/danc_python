{
 "cells": [
  {
   "cell_type": "markdown",
   "id": "25dcc08b-4ffe-42e3-ab8c-0c3dbfafed08",
   "metadata": {},
   "source": [
    "# Работа с модулем диаграмм"
   ]
  },
  {
   "cell_type": "markdown",
   "id": "706ba7db-ff81-44f5-a2d5-853e58b89d1c",
   "metadata": {},
   "source": [
    "Импотритуем объект `DiaModule`"
   ]
  },
  {
   "cell_type": "code",
   "execution_count": 1,
   "id": "4672765d-787e-4045-955a-cb8a3815b738",
   "metadata": {},
   "outputs": [],
   "source": [
    "from danc_python import DiaModule"
   ]
  },
  {
   "cell_type": "markdown",
   "id": "06bcb0f1-9f61-44cd-b0e0-1fc6bc22e7fb",
   "metadata": {},
   "source": [
    "Создадим экземпляр, передав ему путь к модулю. От текущего каталога или абсолютный"
   ]
  },
  {
   "cell_type": "code",
   "execution_count": 2,
   "id": "8edc40c0-2aac-481b-96b9-8b19eedf3940",
   "metadata": {},
   "outputs": [],
   "source": [
    "m = DiaModule(\"data/marm_example1.py\")"
   ]
  },
  {
   "cell_type": "markdown",
   "id": "c1a495ae-8fb3-4cd2-a579-aa559350c703",
   "metadata": {},
   "source": [
    "Теперь можно отобразить диаграмму просто выполнив объект в ячейке.\n",
    "В этом варианте будет сформироуана страница html с заголовком, описанием и ссылкой на диаграмму. По указаному или дефолтовому шаблону."
   ]
  },
  {
   "cell_type": "code",
   "execution_count": 6,
   "id": "f7ef69a5-7039-4ab7-97f3-69580bec3994",
   "metadata": {},
   "outputs": [
    {
     "name": "stdout",
     "output_type": "stream",
     "text": [
      "stateDiagram-v2\n",
      "    [*] --> A\n",
      "    state fork_3 <<fork>>\n",
      "    A --> fork_3\n",
      "    fork_3 --> B\n",
      "    fork_3 --> C\n",
      "    state join_7 <<join>>\n",
      "    B --> join_7\n",
      "    C --> join_7\n",
      "    join_7 --> D1\n",
      "    D1 --> [*]\n"
     ]
    },
    {
     "data": {
      "text/html": [
       "\n",
       "    <h1>Mermaid state пример 1</h1>\n",
       "    <div>Для демонстрации концепции с использованием Mermaid</div>\n",
       "    <div>\n",
       "        <img src=\"https://kroki.io/mermaid/svg/eNorLkksSXXJTEwvSszVLTPiUgCCaK1YBV1dOwVHMK8YpEIhLb8oO95YwcYGxLCzA8s4glVBZMACUEUgUSd0AWckw7LyM_PizYGGgRhQw5zAqiAyYAFndAGoLpCoiyFYxMUQzAO6FwCQ2DI-\">\n",
       "    </div>\n",
       "    <div>\n",
       "А тут большое и толстое описание всего\n",
       "</div>\n"
      ],
      "text/plain": [
       "<danc_python.bases.DiaModule at 0x7f1c500fe400>"
      ]
     },
     "execution_count": 6,
     "metadata": {},
     "output_type": "execute_result"
    }
   ],
   "source": [
    "m"
   ]
  },
  {
   "cell_type": "markdown",
   "id": "7561cc9d-7b1a-4ddc-9475-6dc777706c46",
   "metadata": {},
   "source": [
    "Можно отобразить только картинку:"
   ]
  },
  {
   "cell_type": "code",
   "execution_count": 3,
   "id": "19e2ce27-a239-4b24-ba69-e9276420d8af",
   "metadata": {},
   "outputs": [
    {
     "name": "stdout",
     "output_type": "stream",
     "text": [
      "stateDiagram-v2\n",
      "    [*] --> A\n",
      "    state fork_3 <<fork>>\n",
      "    A --> fork_3\n",
      "    fork_3 --> B\n",
      "    fork_3 --> C\n",
      "    state join_7 <<join>>\n",
      "    B --> join_7\n",
      "    C --> join_7\n",
      "    join_7 --> D1\n",
      "    D1 --> [*]\n"
     ]
    },
    {
     "data": {
      "image/svg+xml": [
       "<svg xmlns:xlink=\"http://www.w3.org/1999/xlink\" xmlns=\"http://www.w3.org/2000/svg\" aria-labelledby=\"chart-title-mermaid-1669392178726 chart-desc-mermaid-1669392178726\" role=\"img\" viewBox=\"0 0 114.703125 481\" class=\"statediagram\" width=\"114.703125\" id=\"mermaid-1669392178726\"><title id=\"chart-title-mermaid-1669392178726\"/><desc id=\"chart-desc-mermaid-1669392178726\"/><style>#mermaid-1669392178726 {font-family:&quot;trebuchet ms&quot;,verdana,arial,sans-serif;font-size:16px;fill:#333;}#mermaid-1669392178726 .error-icon{fill:#552222;}#mermaid-1669392178726 .error-text{fill:#552222;stroke:#552222;}#mermaid-1669392178726 .edge-thickness-normal{stroke-width:2px;}#mermaid-1669392178726 .edge-thickness-thick{stroke-width:3.5px;}#mermaid-1669392178726 .edge-pattern-solid{stroke-dasharray:0;}#mermaid-1669392178726 .edge-pattern-dashed{stroke-dasharray:3;}#mermaid-1669392178726 .edge-pattern-dotted{stroke-dasharray:2;}#mermaid-1669392178726 .marker{fill:#333333;stroke:#333333;}#mermaid-1669392178726 .marker.cross{stroke:#333333;}#mermaid-1669392178726 svg{font-family:&quot;trebuchet ms&quot;,verdana,arial,sans-serif;font-size:16px;}#mermaid-1669392178726 defs #statediagram-barbEnd{fill:#333333;stroke:#333333;}#mermaid-1669392178726 g.stateGroup text{fill:#9370DB;stroke:none;font-size:10px;}#mermaid-1669392178726 g.stateGroup text{fill:#333;stroke:none;font-size:10px;}#mermaid-1669392178726 g.stateGroup .state-title{font-weight:bolder;fill:#131300;}#mermaid-1669392178726 g.stateGroup rect{fill:#ECECFF;stroke:#9370DB;}#mermaid-1669392178726 g.stateGroup line{stroke:#333333;stroke-width:1;}#mermaid-1669392178726 .transition{stroke:#333333;stroke-width:1;fill:none;}#mermaid-1669392178726 .stateGroup .composit{fill:white;border-bottom:1px;}#mermaid-1669392178726 .stateGroup .alt-composit{fill:#e0e0e0;border-bottom:1px;}#mermaid-1669392178726 .state-note{stroke:#aaaa33;fill:#fff5ad;}#mermaid-1669392178726 .state-note text{fill:black;stroke:none;font-size:10px;}#mermaid-1669392178726 .stateLabel .box{stroke:none;stroke-width:0;fill:#ECECFF;opacity:0.5;}#mermaid-1669392178726 .edgeLabel .label rect{fill:#ECECFF;opacity:0.5;}#mermaid-1669392178726 .edgeLabel .label text{fill:#333;}#mermaid-1669392178726 .label div .edgeLabel{color:#333;}#mermaid-1669392178726 .stateLabel text{fill:#131300;font-size:10px;font-weight:bold;}#mermaid-1669392178726 .node circle.state-start{fill:#333333;stroke:#333333;}#mermaid-1669392178726 .node .fork-join{fill:#333333;stroke:#333333;}#mermaid-1669392178726 .node circle.state-end{fill:#9370DB;stroke:white;stroke-width:1.5;}#mermaid-1669392178726 .end-state-inner{fill:white;stroke-width:1.5;}#mermaid-1669392178726 .node rect{fill:#ECECFF;stroke:#9370DB;stroke-width:1px;}#mermaid-1669392178726 .node polygon{fill:#ECECFF;stroke:#9370DB;stroke-width:1px;}#mermaid-1669392178726 #statediagram-barbEnd{fill:#333333;}#mermaid-1669392178726 .statediagram-cluster rect{fill:#ECECFF;stroke:#9370DB;stroke-width:1px;}#mermaid-1669392178726 .cluster-label,#mermaid-1669392178726 .nodeLabel{color:#131300;}#mermaid-1669392178726 .statediagram-cluster rect.outer{rx:5px;ry:5px;}#mermaid-1669392178726 .statediagram-state .divider{stroke:#9370DB;}#mermaid-1669392178726 .statediagram-state .title-state{rx:5px;ry:5px;}#mermaid-1669392178726 .statediagram-cluster.statediagram-cluster .inner{fill:white;}#mermaid-1669392178726 .statediagram-cluster.statediagram-cluster-alt .inner{fill:#f0f0f0;}#mermaid-1669392178726 .statediagram-cluster .inner{rx:0;ry:0;}#mermaid-1669392178726 .statediagram-state rect.basic{rx:5px;ry:5px;}#mermaid-1669392178726 .statediagram-state rect.divider{stroke-dasharray:10,10;fill:#f0f0f0;}#mermaid-1669392178726 .note-edge{stroke-dasharray:5;}#mermaid-1669392178726 .statediagram-note rect{fill:#fff5ad;stroke:#aaaa33;stroke-width:1px;rx:0;ry:0;}#mermaid-1669392178726 .statediagram-note rect{fill:#fff5ad;stroke:#aaaa33;stroke-width:1px;rx:0;ry:0;}#mermaid-1669392178726 .statediagram-note text{fill:black;}#mermaid-1669392178726 .statediagram-note .nodeLabel{color:black;}#mermaid-1669392178726 .statediagram .edgeLabel{color:red;}#mermaid-1669392178726 #dependencyStart,#mermaid-1669392178726 #dependencyEnd{fill:#333333;stroke:#333333;stroke-width:1;}#mermaid-1669392178726 :root{--mermaid-font-family:&quot;trebuchet ms&quot;,verdana,arial,sans-serif;}</style><g><defs><marker orient=\"auto\" markerUnits=\"strokeWidth\" markerHeight=\"14\" markerWidth=\"20\" refY=\"7\" refX=\"19\" id=\"statediagram-barbEnd\"><path d=\"M 19,7 L9,13 L14,7 L9,1 Z\"/></marker></defs><g class=\"root\"><g class=\"clusters\"/><g class=\"edgePaths\"><path marker-end=\"url(#statediagram-barbEnd)\" style=\"fill:none\" class=\"edge-thickness-normal transition\" id=\"edge0\" d=\"M57.54296875,22L57.54296875,26.166666666666668C57.54296875,30.333333333333332,57.54296875,38.666666666666664,57.54296875,47C57.54296875,55.333333333333336,57.54296875,63.666666666666664,57.54296875,67.83333333333333L57.54296875,72\"/><path marker-end=\"url(#statediagram-barbEnd)\" style=\"fill:none\" class=\"edge-thickness-normal transition\" id=\"edge1\" d=\"M57.54296875,106L57.54296875,110.16666666666667C57.54296875,114.33333333333333,57.54296875,122.66666666666667,57.54296875,131C57.54296875,139.33333333333334,57.54296875,147.66666666666666,57.54296875,151.83333333333334L57.54296875,156\"/><path marker-end=\"url(#statediagram-barbEnd)\" style=\"fill:none\" class=\"edge-thickness-normal transition\" id=\"edge2\" d=\"M47.90480324074074,173.5L43.31520061728395,177.66666666666666C38.72559799382716,181.83333333333334,29.54639274691358,190.16666666666666,24.956790123456788,198.5C20.3671875,206.83333333333334,20.3671875,215.16666666666666,20.3671875,219.33333333333334L20.3671875,223.5\"/><path marker-end=\"url(#statediagram-barbEnd)\" style=\"fill:none\" class=\"edge-thickness-normal transition\" id=\"edge3\" d=\"M67.18113425925927,173.5L71.77073688271605,177.66666666666666C76.36033950617285,181.83333333333334,85.53954475308642,190.16666666666666,90.1291473765432,198.5C94.71875,206.83333333333334,94.71875,215.16666666666666,94.71875,219.33333333333334L94.71875,223.5\"/><path marker-end=\"url(#statediagram-barbEnd)\" style=\"fill:none\" class=\"edge-thickness-normal transition\" id=\"edge4\" d=\"M20.3671875,257.5L20.3671875,261.6666666666667C20.3671875,265.8333333333333,20.3671875,274.1666666666667,24.956790123456788,282.5C29.54639274691358,290.8333333333333,38.72559799382716,299.1666666666667,43.31520061728395,303.3333333333333L47.90480324074074,307.5\"/><path marker-end=\"url(#statediagram-barbEnd)\" style=\"fill:none\" class=\"edge-thickness-normal transition\" id=\"edge5\" d=\"M94.71875,257.5L94.71875,261.6666666666667C94.71875,265.8333333333333,94.71875,274.1666666666667,90.1291473765432,282.5C85.53954475308642,290.8333333333333,76.36033950617285,299.1666666666667,71.77073688271605,303.3333333333333L67.18113425925927,307.5\"/><path marker-end=\"url(#statediagram-barbEnd)\" style=\"fill:none\" class=\"edge-thickness-normal transition\" id=\"edge6\" d=\"M57.54296875,325L57.54296875,329.1666666666667C57.54296875,333.3333333333333,57.54296875,341.6666666666667,57.54296875,350C57.54296875,358.3333333333333,57.54296875,366.6666666666667,57.54296875,370.8333333333333L57.54296875,375\"/><path marker-end=\"url(#statediagram-barbEnd)\" style=\"fill:none\" class=\"edge-thickness-normal transition\" id=\"edge7\" d=\"M57.54296875,409L57.54296875,413.1666666666667C57.54296875,417.3333333333333,57.54296875,425.6666666666667,57.54296875,434C57.54296875,442.3333333333333,57.54296875,450.6666666666667,57.54296875,454.8333333333333L57.54296875,459\"/></g><g class=\"edgeLabels\"><g class=\"edgeLabel\"><g transform=\"translate(0, 0)\" class=\"label\"><rect height=\"0\" width=\"0\" ry=\"0\" rx=\"0\"/><foreignObject height=\"0\" width=\"0\"><div xmlns=\"http://www.w3.org/1999/xhtml\" style=\"display: inline-block; white-space: nowrap;\"><span class=\"edgeLabel\"/></div></foreignObject></g></g><g class=\"edgeLabel\"><g transform=\"translate(0, 0)\" class=\"label\"><rect height=\"0\" width=\"0\" ry=\"0\" rx=\"0\"/><foreignObject height=\"0\" width=\"0\"><div xmlns=\"http://www.w3.org/1999/xhtml\" style=\"display: inline-block; white-space: nowrap;\"><span class=\"edgeLabel\"/></div></foreignObject></g></g><g class=\"edgeLabel\"><g transform=\"translate(0, 0)\" class=\"label\"><rect height=\"0\" width=\"0\" ry=\"0\" rx=\"0\"/><foreignObject height=\"0\" width=\"0\"><div xmlns=\"http://www.w3.org/1999/xhtml\" style=\"display: inline-block; white-space: nowrap;\"><span class=\"edgeLabel\"/></div></foreignObject></g></g><g class=\"edgeLabel\"><g transform=\"translate(0, 0)\" class=\"label\"><rect height=\"0\" width=\"0\" ry=\"0\" rx=\"0\"/><foreignObject height=\"0\" width=\"0\"><div xmlns=\"http://www.w3.org/1999/xhtml\" style=\"display: inline-block; white-space: nowrap;\"><span class=\"edgeLabel\"/></div></foreignObject></g></g><g class=\"edgeLabel\"><g transform=\"translate(0, 0)\" class=\"label\"><rect height=\"0\" width=\"0\" ry=\"0\" rx=\"0\"/><foreignObject height=\"0\" width=\"0\"><div xmlns=\"http://www.w3.org/1999/xhtml\" style=\"display: inline-block; white-space: nowrap;\"><span class=\"edgeLabel\"/></div></foreignObject></g></g><g class=\"edgeLabel\"><g transform=\"translate(0, 0)\" class=\"label\"><rect height=\"0\" width=\"0\" ry=\"0\" rx=\"0\"/><foreignObject height=\"0\" width=\"0\"><div xmlns=\"http://www.w3.org/1999/xhtml\" style=\"display: inline-block; white-space: nowrap;\"><span class=\"edgeLabel\"/></div></foreignObject></g></g><g class=\"edgeLabel\"><g transform=\"translate(0, 0)\" class=\"label\"><rect height=\"0\" width=\"0\" ry=\"0\" rx=\"0\"/><foreignObject height=\"0\" width=\"0\"><div xmlns=\"http://www.w3.org/1999/xhtml\" style=\"display: inline-block; white-space: nowrap;\"><span class=\"edgeLabel\"/></div></foreignObject></g></g><g class=\"edgeLabel\"><g transform=\"translate(0, 0)\" class=\"label\"><rect height=\"0\" width=\"0\" ry=\"0\" rx=\"0\"/><foreignObject height=\"0\" width=\"0\"><div xmlns=\"http://www.w3.org/1999/xhtml\" style=\"display: inline-block; white-space: nowrap;\"><span class=\"edgeLabel\"/></div></foreignObject></g></g></g><g class=\"nodes\"><g transform=\"translate(57.54296875, 15)\" id=\"state-root_start-0\" class=\"node default\"><circle height=\"14\" width=\"14\" r=\"7\" class=\"state-start\"/></g><g transform=\"translate(57.54296875, 89)\" id=\"state-A-1\" class=\"node statediagram-state\"><rect height=\"34\" width=\"24.171875\" y=\"-17\" x=\"-12.0859375\" style=\"\" class=\"basic label-container\"/><g transform=\"translate(-4.5859375, -9.5)\" style=\"\" class=\"label\"><foreignObject height=\"19\" width=\"9.171875\"><div xmlns=\"http://www.w3.org/1999/xhtml\" style=\"display: inline-block; white-space: nowrap;\"><span class=\"nodeLabel\">A</span></div></foreignObject></g></g><g transform=\"translate(57.54296875, 164.75)\" id=\"state-fork_3-3\" class=\"node default\"><rect class=\"fork-join\" height=\"10\" width=\"70\" y=\"-5\" x=\"-35\"/></g><g transform=\"translate(20.3671875, 240.5)\" id=\"state-B-4\" class=\"node statediagram-state\"><rect height=\"34\" width=\"24.734375\" y=\"-17\" x=\"-12.3671875\" style=\"\" class=\"basic label-container\"/><g transform=\"translate(-4.8671875, -9.5)\" style=\"\" class=\"label\"><foreignObject height=\"19\" width=\"9.734375\"><div xmlns=\"http://www.w3.org/1999/xhtml\" style=\"display: inline-block; white-space: nowrap;\"><span class=\"nodeLabel\">B</span></div></foreignObject></g></g><g transform=\"translate(94.71875, 240.5)\" id=\"state-C-5\" class=\"node statediagram-state\"><rect height=\"34\" width=\"23.96875\" y=\"-17\" x=\"-11.984375\" style=\"\" class=\"basic label-container\"/><g transform=\"translate(-4.484375, -9.5)\" style=\"\" class=\"label\"><foreignObject height=\"19\" width=\"8.96875\"><div xmlns=\"http://www.w3.org/1999/xhtml\" style=\"display: inline-block; white-space: nowrap;\"><span class=\"nodeLabel\">C</span></div></foreignObject></g></g><g transform=\"translate(57.54296875, 316.25)\" id=\"state-join_7-6\" class=\"node default\"><rect class=\"fork-join\" height=\"10\" width=\"70\" y=\"-5\" x=\"-35\"/></g><g transform=\"translate(57.54296875, 392)\" id=\"state-D1-7\" class=\"node statediagram-state\"><rect height=\"34\" width=\"32.046875\" y=\"-17\" x=\"-16.0234375\" style=\"\" class=\"basic label-container\"/><g transform=\"translate(-8.5234375, -9.5)\" style=\"\" class=\"label\"><foreignObject height=\"19\" width=\"17.046875\"><div xmlns=\"http://www.w3.org/1999/xhtml\" style=\"display: inline-block; white-space: nowrap;\"><span class=\"nodeLabel\">D1</span></div></foreignObject></g></g><g transform=\"translate(57.54296875, 466)\" id=\"state-root_end-7\" class=\"node default\"><circle height=\"14\" width=\"14\" r=\"7\" class=\"state-start\"/><circle height=\"10\" width=\"10\" r=\"5\" class=\"state-end\"/></g></g></g></g></svg>"
      ],
      "text/plain": [
       "<IPython.core.display.SVG object>"
      ]
     },
     "execution_count": 3,
     "metadata": {},
     "output_type": "execute_result"
    }
   ],
   "source": [
    "m.display_svg()"
   ]
  },
  {
   "cell_type": "markdown",
   "id": "dea89e10-78c1-4988-84ea-ddf4529225d5",
   "metadata": {},
   "source": [
    "Можно получить картинку в виде данных. Для дальнейшего использвоания например:"
   ]
  },
  {
   "cell_type": "code",
   "execution_count": 3,
   "id": "4b83c05f-f6a2-433f-bd79-da85ce76745b",
   "metadata": {},
   "outputs": [],
   "source": [
    "from IPython import display"
   ]
  },
  {
   "cell_type": "code",
   "execution_count": 7,
   "id": "320f14b0-f4de-4888-be8e-50308dfd03ce",
   "metadata": {},
   "outputs": [
    {
     "name": "stdout",
     "output_type": "stream",
     "text": [
      "stateDiagram-v2\n",
      "    [*] --> A\n",
      "    state fork_3 <<fork>>\n",
      "    A --> fork_3\n",
      "    fork_3 --> B\n",
      "    fork_3 --> C\n",
      "    state join_7 <<join>>\n",
      "    B --> join_7\n",
      "    C --> join_7\n",
      "    join_7 --> D1\n",
      "    D1 --> [*]\n"
     ]
    },
    {
     "data": {
      "image/svg+xml": [
       "<svg xmlns:xlink=\"http://www.w3.org/1999/xlink\" xmlns=\"http://www.w3.org/2000/svg\" aria-labelledby=\"chart-title-mermaid-1669391839611 chart-desc-mermaid-1669391839611\" role=\"img\" viewBox=\"0 0 114.703125 481\" class=\"statediagram\" width=\"114.703125\" id=\"mermaid-1669391839611\"><title id=\"chart-title-mermaid-1669391839611\"/><desc id=\"chart-desc-mermaid-1669391839611\"/><style>#mermaid-1669391839611 {font-family:&quot;trebuchet ms&quot;,verdana,arial,sans-serif;font-size:16px;fill:#333;}#mermaid-1669391839611 .error-icon{fill:#552222;}#mermaid-1669391839611 .error-text{fill:#552222;stroke:#552222;}#mermaid-1669391839611 .edge-thickness-normal{stroke-width:2px;}#mermaid-1669391839611 .edge-thickness-thick{stroke-width:3.5px;}#mermaid-1669391839611 .edge-pattern-solid{stroke-dasharray:0;}#mermaid-1669391839611 .edge-pattern-dashed{stroke-dasharray:3;}#mermaid-1669391839611 .edge-pattern-dotted{stroke-dasharray:2;}#mermaid-1669391839611 .marker{fill:#333333;stroke:#333333;}#mermaid-1669391839611 .marker.cross{stroke:#333333;}#mermaid-1669391839611 svg{font-family:&quot;trebuchet ms&quot;,verdana,arial,sans-serif;font-size:16px;}#mermaid-1669391839611 defs #statediagram-barbEnd{fill:#333333;stroke:#333333;}#mermaid-1669391839611 g.stateGroup text{fill:#9370DB;stroke:none;font-size:10px;}#mermaid-1669391839611 g.stateGroup text{fill:#333;stroke:none;font-size:10px;}#mermaid-1669391839611 g.stateGroup .state-title{font-weight:bolder;fill:#131300;}#mermaid-1669391839611 g.stateGroup rect{fill:#ECECFF;stroke:#9370DB;}#mermaid-1669391839611 g.stateGroup line{stroke:#333333;stroke-width:1;}#mermaid-1669391839611 .transition{stroke:#333333;stroke-width:1;fill:none;}#mermaid-1669391839611 .stateGroup .composit{fill:white;border-bottom:1px;}#mermaid-1669391839611 .stateGroup .alt-composit{fill:#e0e0e0;border-bottom:1px;}#mermaid-1669391839611 .state-note{stroke:#aaaa33;fill:#fff5ad;}#mermaid-1669391839611 .state-note text{fill:black;stroke:none;font-size:10px;}#mermaid-1669391839611 .stateLabel .box{stroke:none;stroke-width:0;fill:#ECECFF;opacity:0.5;}#mermaid-1669391839611 .edgeLabel .label rect{fill:#ECECFF;opacity:0.5;}#mermaid-1669391839611 .edgeLabel .label text{fill:#333;}#mermaid-1669391839611 .label div .edgeLabel{color:#333;}#mermaid-1669391839611 .stateLabel text{fill:#131300;font-size:10px;font-weight:bold;}#mermaid-1669391839611 .node circle.state-start{fill:#333333;stroke:#333333;}#mermaid-1669391839611 .node .fork-join{fill:#333333;stroke:#333333;}#mermaid-1669391839611 .node circle.state-end{fill:#9370DB;stroke:white;stroke-width:1.5;}#mermaid-1669391839611 .end-state-inner{fill:white;stroke-width:1.5;}#mermaid-1669391839611 .node rect{fill:#ECECFF;stroke:#9370DB;stroke-width:1px;}#mermaid-1669391839611 .node polygon{fill:#ECECFF;stroke:#9370DB;stroke-width:1px;}#mermaid-1669391839611 #statediagram-barbEnd{fill:#333333;}#mermaid-1669391839611 .statediagram-cluster rect{fill:#ECECFF;stroke:#9370DB;stroke-width:1px;}#mermaid-1669391839611 .cluster-label,#mermaid-1669391839611 .nodeLabel{color:#131300;}#mermaid-1669391839611 .statediagram-cluster rect.outer{rx:5px;ry:5px;}#mermaid-1669391839611 .statediagram-state .divider{stroke:#9370DB;}#mermaid-1669391839611 .statediagram-state .title-state{rx:5px;ry:5px;}#mermaid-1669391839611 .statediagram-cluster.statediagram-cluster .inner{fill:white;}#mermaid-1669391839611 .statediagram-cluster.statediagram-cluster-alt .inner{fill:#f0f0f0;}#mermaid-1669391839611 .statediagram-cluster .inner{rx:0;ry:0;}#mermaid-1669391839611 .statediagram-state rect.basic{rx:5px;ry:5px;}#mermaid-1669391839611 .statediagram-state rect.divider{stroke-dasharray:10,10;fill:#f0f0f0;}#mermaid-1669391839611 .note-edge{stroke-dasharray:5;}#mermaid-1669391839611 .statediagram-note rect{fill:#fff5ad;stroke:#aaaa33;stroke-width:1px;rx:0;ry:0;}#mermaid-1669391839611 .statediagram-note rect{fill:#fff5ad;stroke:#aaaa33;stroke-width:1px;rx:0;ry:0;}#mermaid-1669391839611 .statediagram-note text{fill:black;}#mermaid-1669391839611 .statediagram-note .nodeLabel{color:black;}#mermaid-1669391839611 .statediagram .edgeLabel{color:red;}#mermaid-1669391839611 #dependencyStart,#mermaid-1669391839611 #dependencyEnd{fill:#333333;stroke:#333333;stroke-width:1;}#mermaid-1669391839611 :root{--mermaid-font-family:&quot;trebuchet ms&quot;,verdana,arial,sans-serif;}</style><g><defs><marker orient=\"auto\" markerUnits=\"strokeWidth\" markerHeight=\"14\" markerWidth=\"20\" refY=\"7\" refX=\"19\" id=\"statediagram-barbEnd\"><path d=\"M 19,7 L9,13 L14,7 L9,1 Z\"/></marker></defs><g class=\"root\"><g class=\"clusters\"/><g class=\"edgePaths\"><path marker-end=\"url(#statediagram-barbEnd)\" style=\"fill:none\" class=\"edge-thickness-normal transition\" id=\"edge0\" d=\"M57.54296875,22L57.54296875,26.166666666666668C57.54296875,30.333333333333332,57.54296875,38.666666666666664,57.54296875,47C57.54296875,55.333333333333336,57.54296875,63.666666666666664,57.54296875,67.83333333333333L57.54296875,72\"/><path marker-end=\"url(#statediagram-barbEnd)\" style=\"fill:none\" class=\"edge-thickness-normal transition\" id=\"edge1\" d=\"M57.54296875,106L57.54296875,110.16666666666667C57.54296875,114.33333333333333,57.54296875,122.66666666666667,57.54296875,131C57.54296875,139.33333333333334,57.54296875,147.66666666666666,57.54296875,151.83333333333334L57.54296875,156\"/><path marker-end=\"url(#statediagram-barbEnd)\" style=\"fill:none\" class=\"edge-thickness-normal transition\" id=\"edge2\" d=\"M47.90480324074074,173.5L43.31520061728395,177.66666666666666C38.72559799382716,181.83333333333334,29.54639274691358,190.16666666666666,24.956790123456788,198.5C20.3671875,206.83333333333334,20.3671875,215.16666666666666,20.3671875,219.33333333333334L20.3671875,223.5\"/><path marker-end=\"url(#statediagram-barbEnd)\" style=\"fill:none\" class=\"edge-thickness-normal transition\" id=\"edge3\" d=\"M67.18113425925927,173.5L71.77073688271605,177.66666666666666C76.36033950617285,181.83333333333334,85.53954475308642,190.16666666666666,90.1291473765432,198.5C94.71875,206.83333333333334,94.71875,215.16666666666666,94.71875,219.33333333333334L94.71875,223.5\"/><path marker-end=\"url(#statediagram-barbEnd)\" style=\"fill:none\" class=\"edge-thickness-normal transition\" id=\"edge4\" d=\"M20.3671875,257.5L20.3671875,261.6666666666667C20.3671875,265.8333333333333,20.3671875,274.1666666666667,24.956790123456788,282.5C29.54639274691358,290.8333333333333,38.72559799382716,299.1666666666667,43.31520061728395,303.3333333333333L47.90480324074074,307.5\"/><path marker-end=\"url(#statediagram-barbEnd)\" style=\"fill:none\" class=\"edge-thickness-normal transition\" id=\"edge5\" d=\"M94.71875,257.5L94.71875,261.6666666666667C94.71875,265.8333333333333,94.71875,274.1666666666667,90.1291473765432,282.5C85.53954475308642,290.8333333333333,76.36033950617285,299.1666666666667,71.77073688271605,303.3333333333333L67.18113425925927,307.5\"/><path marker-end=\"url(#statediagram-barbEnd)\" style=\"fill:none\" class=\"edge-thickness-normal transition\" id=\"edge6\" d=\"M57.54296875,325L57.54296875,329.1666666666667C57.54296875,333.3333333333333,57.54296875,341.6666666666667,57.54296875,350C57.54296875,358.3333333333333,57.54296875,366.6666666666667,57.54296875,370.8333333333333L57.54296875,375\"/><path marker-end=\"url(#statediagram-barbEnd)\" style=\"fill:none\" class=\"edge-thickness-normal transition\" id=\"edge7\" d=\"M57.54296875,409L57.54296875,413.1666666666667C57.54296875,417.3333333333333,57.54296875,425.6666666666667,57.54296875,434C57.54296875,442.3333333333333,57.54296875,450.6666666666667,57.54296875,454.8333333333333L57.54296875,459\"/></g><g class=\"edgeLabels\"><g class=\"edgeLabel\"><g transform=\"translate(0, 0)\" class=\"label\"><rect height=\"0\" width=\"0\" ry=\"0\" rx=\"0\"/><foreignObject height=\"0\" width=\"0\"><div xmlns=\"http://www.w3.org/1999/xhtml\" style=\"display: inline-block; white-space: nowrap;\"><span class=\"edgeLabel\"/></div></foreignObject></g></g><g class=\"edgeLabel\"><g transform=\"translate(0, 0)\" class=\"label\"><rect height=\"0\" width=\"0\" ry=\"0\" rx=\"0\"/><foreignObject height=\"0\" width=\"0\"><div xmlns=\"http://www.w3.org/1999/xhtml\" style=\"display: inline-block; white-space: nowrap;\"><span class=\"edgeLabel\"/></div></foreignObject></g></g><g class=\"edgeLabel\"><g transform=\"translate(0, 0)\" class=\"label\"><rect height=\"0\" width=\"0\" ry=\"0\" rx=\"0\"/><foreignObject height=\"0\" width=\"0\"><div xmlns=\"http://www.w3.org/1999/xhtml\" style=\"display: inline-block; white-space: nowrap;\"><span class=\"edgeLabel\"/></div></foreignObject></g></g><g class=\"edgeLabel\"><g transform=\"translate(0, 0)\" class=\"label\"><rect height=\"0\" width=\"0\" ry=\"0\" rx=\"0\"/><foreignObject height=\"0\" width=\"0\"><div xmlns=\"http://www.w3.org/1999/xhtml\" style=\"display: inline-block; white-space: nowrap;\"><span class=\"edgeLabel\"/></div></foreignObject></g></g><g class=\"edgeLabel\"><g transform=\"translate(0, 0)\" class=\"label\"><rect height=\"0\" width=\"0\" ry=\"0\" rx=\"0\"/><foreignObject height=\"0\" width=\"0\"><div xmlns=\"http://www.w3.org/1999/xhtml\" style=\"display: inline-block; white-space: nowrap;\"><span class=\"edgeLabel\"/></div></foreignObject></g></g><g class=\"edgeLabel\"><g transform=\"translate(0, 0)\" class=\"label\"><rect height=\"0\" width=\"0\" ry=\"0\" rx=\"0\"/><foreignObject height=\"0\" width=\"0\"><div xmlns=\"http://www.w3.org/1999/xhtml\" style=\"display: inline-block; white-space: nowrap;\"><span class=\"edgeLabel\"/></div></foreignObject></g></g><g class=\"edgeLabel\"><g transform=\"translate(0, 0)\" class=\"label\"><rect height=\"0\" width=\"0\" ry=\"0\" rx=\"0\"/><foreignObject height=\"0\" width=\"0\"><div xmlns=\"http://www.w3.org/1999/xhtml\" style=\"display: inline-block; white-space: nowrap;\"><span class=\"edgeLabel\"/></div></foreignObject></g></g><g class=\"edgeLabel\"><g transform=\"translate(0, 0)\" class=\"label\"><rect height=\"0\" width=\"0\" ry=\"0\" rx=\"0\"/><foreignObject height=\"0\" width=\"0\"><div xmlns=\"http://www.w3.org/1999/xhtml\" style=\"display: inline-block; white-space: nowrap;\"><span class=\"edgeLabel\"/></div></foreignObject></g></g></g><g class=\"nodes\"><g transform=\"translate(57.54296875, 15)\" id=\"state-root_start-0\" class=\"node default\"><circle height=\"14\" width=\"14\" r=\"7\" class=\"state-start\"/></g><g transform=\"translate(57.54296875, 89)\" id=\"state-A-1\" class=\"node statediagram-state\"><rect height=\"34\" width=\"24.171875\" y=\"-17\" x=\"-12.0859375\" style=\"\" class=\"basic label-container\"/><g transform=\"translate(-4.5859375, -9.5)\" style=\"\" class=\"label\"><foreignObject height=\"19\" width=\"9.171875\"><div xmlns=\"http://www.w3.org/1999/xhtml\" style=\"display: inline-block; white-space: nowrap;\"><span class=\"nodeLabel\">A</span></div></foreignObject></g></g><g transform=\"translate(57.54296875, 164.75)\" id=\"state-fork_3-3\" class=\"node default\"><rect class=\"fork-join\" height=\"10\" width=\"70\" y=\"-5\" x=\"-35\"/></g><g transform=\"translate(20.3671875, 240.5)\" id=\"state-B-4\" class=\"node statediagram-state\"><rect height=\"34\" width=\"24.734375\" y=\"-17\" x=\"-12.3671875\" style=\"\" class=\"basic label-container\"/><g transform=\"translate(-4.8671875, -9.5)\" style=\"\" class=\"label\"><foreignObject height=\"19\" width=\"9.734375\"><div xmlns=\"http://www.w3.org/1999/xhtml\" style=\"display: inline-block; white-space: nowrap;\"><span class=\"nodeLabel\">B</span></div></foreignObject></g></g><g transform=\"translate(94.71875, 240.5)\" id=\"state-C-5\" class=\"node statediagram-state\"><rect height=\"34\" width=\"23.96875\" y=\"-17\" x=\"-11.984375\" style=\"\" class=\"basic label-container\"/><g transform=\"translate(-4.484375, -9.5)\" style=\"\" class=\"label\"><foreignObject height=\"19\" width=\"8.96875\"><div xmlns=\"http://www.w3.org/1999/xhtml\" style=\"display: inline-block; white-space: nowrap;\"><span class=\"nodeLabel\">C</span></div></foreignObject></g></g><g transform=\"translate(57.54296875, 316.25)\" id=\"state-join_7-6\" class=\"node default\"><rect class=\"fork-join\" height=\"10\" width=\"70\" y=\"-5\" x=\"-35\"/></g><g transform=\"translate(57.54296875, 392)\" id=\"state-D1-7\" class=\"node statediagram-state\"><rect height=\"34\" width=\"32.046875\" y=\"-17\" x=\"-16.0234375\" style=\"\" class=\"basic label-container\"/><g transform=\"translate(-8.5234375, -9.5)\" style=\"\" class=\"label\"><foreignObject height=\"19\" width=\"17.046875\"><div xmlns=\"http://www.w3.org/1999/xhtml\" style=\"display: inline-block; white-space: nowrap;\"><span class=\"nodeLabel\">D1</span></div></foreignObject></g></g><g transform=\"translate(57.54296875, 466)\" id=\"state-root_end-7\" class=\"node default\"><circle height=\"14\" width=\"14\" r=\"7\" class=\"state-start\"/><circle height=\"10\" width=\"10\" r=\"5\" class=\"state-end\"/></g></g></g></g></svg>"
      ],
      "text/plain": [
       "<IPython.core.display.SVG object>"
      ]
     },
     "execution_count": 7,
     "metadata": {},
     "output_type": "execute_result"
    }
   ],
   "source": [
    "display.SVG(m.svg)"
   ]
  },
  {
   "cell_type": "markdown",
   "id": "666c3a37-5a10-4a1c-b025-0f5322798cf2",
   "metadata": {},
   "source": [
    "### Редактирование и обновление\n",
    "\n",
    "Что бы редактировать модуль с диаграммой - откройте его в Jupyter.\n",
    "После сохранения изменений - пересоздайте экземпляр объекта `DiaModule`"
   ]
  },
  {
   "cell_type": "code",
   "execution_count": null,
   "id": "a77ad836-0d79-45bb-890f-f96aeca00baa",
   "metadata": {},
   "outputs": [],
   "source": []
  }
 ],
 "metadata": {
  "kernelspec": {
   "display_name": "Python 3 (ipykernel)",
   "language": "python",
   "name": "python3"
  },
  "language_info": {
   "codemirror_mode": {
    "name": "ipython",
    "version": 3
   },
   "file_extension": ".py",
   "mimetype": "text/x-python",
   "name": "python",
   "nbconvert_exporter": "python",
   "pygments_lexer": "ipython3",
   "version": "3.8.9"
  }
 },
 "nbformat": 4,
 "nbformat_minor": 5
}
